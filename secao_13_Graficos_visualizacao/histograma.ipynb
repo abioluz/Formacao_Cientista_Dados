{
 "cells": [
  {
   "cell_type": "markdown",
   "id": "49d41070-ff88-4beb-80fd-15c78e23d948",
   "metadata": {},
   "source": [
    "# Gráfico Histograma"
   ]
  },
  {
   "cell_type": "code",
   "execution_count": 8,
   "id": "f316d027-2bda-46f6-9217-59b7bc820809",
   "metadata": {},
   "outputs": [],
   "source": [
    "# importando as bibliotecas\n",
    "import pandas as pd\n",
    "import numpy as np\n",
    "import matplotlib.pyplot as plt"
   ]
  },
  {
   "cell_type": "code",
   "execution_count": 9,
   "id": "13aabc15-2630-481b-aea7-05acaa677a80",
   "metadata": {},
   "outputs": [
    {
     "data": {
      "text/plain": [
       "(31, 3)"
      ]
     },
     "metadata": {},
     "output_type": "display_data"
    }
   ],
   "source": [
    "# Carregando base de dados\n",
    "base = pd.read_csv('trees.csv')\n",
    "display(base.shape)\n"
   ]
  },
  {
   "cell_type": "code",
   "execution_count": 15,
   "id": "1245a522-8d03-4aab-99fe-ed26f55f2770",
   "metadata": {},
   "outputs": [
    {
     "data": {
      "text/html": [
       "<div>\n",
       "<style scoped>\n",
       "    .dataframe tbody tr th:only-of-type {\n",
       "        vertical-align: middle;\n",
       "    }\n",
       "\n",
       "    .dataframe tbody tr th {\n",
       "        vertical-align: top;\n",
       "    }\n",
       "\n",
       "    .dataframe thead th {\n",
       "        text-align: right;\n",
       "    }\n",
       "</style>\n",
       "<table border=\"1\" class=\"dataframe\">\n",
       "  <thead>\n",
       "    <tr style=\"text-align: right;\">\n",
       "      <th></th>\n",
       "      <th>Girth</th>\n",
       "      <th>Height</th>\n",
       "      <th>Volume</th>\n",
       "    </tr>\n",
       "  </thead>\n",
       "  <tbody>\n",
       "    <tr>\n",
       "      <th>count</th>\n",
       "      <td>31.000000</td>\n",
       "      <td>31.000000</td>\n",
       "      <td>31.000000</td>\n",
       "    </tr>\n",
       "    <tr>\n",
       "      <th>mean</th>\n",
       "      <td>13.248387</td>\n",
       "      <td>76.000000</td>\n",
       "      <td>30.170968</td>\n",
       "    </tr>\n",
       "    <tr>\n",
       "      <th>std</th>\n",
       "      <td>3.138139</td>\n",
       "      <td>6.371813</td>\n",
       "      <td>16.437846</td>\n",
       "    </tr>\n",
       "    <tr>\n",
       "      <th>min</th>\n",
       "      <td>8.300000</td>\n",
       "      <td>63.000000</td>\n",
       "      <td>10.200000</td>\n",
       "    </tr>\n",
       "    <tr>\n",
       "      <th>25%</th>\n",
       "      <td>11.050000</td>\n",
       "      <td>72.000000</td>\n",
       "      <td>19.400000</td>\n",
       "    </tr>\n",
       "    <tr>\n",
       "      <th>50%</th>\n",
       "      <td>12.900000</td>\n",
       "      <td>76.000000</td>\n",
       "      <td>24.200000</td>\n",
       "    </tr>\n",
       "    <tr>\n",
       "      <th>75%</th>\n",
       "      <td>15.250000</td>\n",
       "      <td>80.000000</td>\n",
       "      <td>37.300000</td>\n",
       "    </tr>\n",
       "    <tr>\n",
       "      <th>max</th>\n",
       "      <td>20.600000</td>\n",
       "      <td>87.000000</td>\n",
       "      <td>77.000000</td>\n",
       "    </tr>\n",
       "  </tbody>\n",
       "</table>\n",
       "</div>"
      ],
      "text/plain": [
       "           Girth     Height     Volume\n",
       "count  31.000000  31.000000  31.000000\n",
       "mean   13.248387  76.000000  30.170968\n",
       "std     3.138139   6.371813  16.437846\n",
       "min     8.300000  63.000000  10.200000\n",
       "25%    11.050000  72.000000  19.400000\n",
       "50%    12.900000  76.000000  24.200000\n",
       "75%    15.250000  80.000000  37.300000\n",
       "max    20.600000  87.000000  77.000000"
      ]
     },
     "execution_count": 15,
     "metadata": {},
     "output_type": "execute_result"
    }
   ],
   "source": [
    "base.head()\n",
    "base.describe()"
   ]
  },
  {
   "cell_type": "code",
   "execution_count": 12,
   "id": "34b0a8b3-8670-4a47-987f-b72ab1cc7047",
   "metadata": {},
   "outputs": [
    {
     "data": {
      "text/plain": [
       "(array([4, 2, 5, 7, 9, 4]), array([63., 67., 71., 75., 79., 83., 87.]))"
      ]
     },
     "execution_count": 12,
     "metadata": {},
     "output_type": "execute_result"
    }
   ],
   "source": [
    "# Criação do histograma, considerando somente o segundo atributo da base de dados e com duas divisões (bins)\n",
    "# A variável 'h' armazena as formas de valores de Height\n",
    "h = np.histogram(base.iloc[:,1], bins=6)\n",
    "h"
   ]
  },
  {
   "cell_type": "code",
   "execution_count": 13,
   "id": "f9638f75-9e3c-477b-8c05-a1a7632e8678",
   "metadata": {},
   "outputs": [
    {
     "data": {
      "text/plain": [
       "Text(0.5, 0, 'Altura')"
      ]
     },
     "execution_count": 13,
     "metadata": {},
     "output_type": "execute_result"
    },
    {
     "data": {
      "image/png": "[encoded data removed]",
      "text/plain": [
       "<Figure size 640x480 with 1 Axes>"
      ]
     },
     "metadata": {},
     "output_type": "display_data"
    }
   ],
   "source": [
    "# visualização do histograma com 6 divisões (bins)\n",
    "plt.hist(base.iloc[:,1], bins=6)\n",
    "plt.title('Árvores')\n",
    "plt.ylabel('Frequencia')\n",
    "plt.xlabel('Altura')"
   ]
  },
  {
   "cell_type": "code",
   "execution_count": null,
   "id": "da68b969-7b8f-42df-a603-c9c1bc642536",
   "metadata": {},
   "outputs": [],
   "source": []
  }
 ],
 "metadata": {
  "kernelspec": {
   "display_name": "Python 3 (ipykernel)",
   "language": "python",
   "name": "python3"
  },
  "language_info": {
   "codemirror_mode": {
    "name": "ipython",
    "version": 3
   },
   "file_extension": ".py",
   "mimetype": "text/x-python",
   "name": "python",
   "nbconvert_exporter": "python",
   "pygments_lexer": "ipython3",
   "version": "3.10.12"
  }
 },
 "nbformat": 4,
 "nbformat_minor": 5
}
