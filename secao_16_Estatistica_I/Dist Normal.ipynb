{
 "cells": [
  {
   "cell_type": "markdown",
   "id": "422c566c-92c4-4c20-8b52-c8161e35eb0a",
   "metadata": {},
   "source": [
    "# Distribuição Normal"
   ]
  },
  {
   "cell_type": "code",
   "execution_count": 1,
   "id": "0b5f8ad7-f0b5-40e8-b309-5ebb46e8c203",
   "metadata": {},
   "outputs": [],
   "source": [
    "from scipy.stats import norm"
   ]
  },
  {
   "cell_type": "code",
   "execution_count": 2,
   "id": "eedc928f-70e7-4efa-8e44-8ac4779c05c8",
   "metadata": {},
   "outputs": [
    {
     "data": {
      "text/plain": [
       "0.15865525393145707"
      ]
     },
     "execution_count": 2,
     "metadata": {},
     "output_type": "execute_result"
    }
   ],
   "source": [
    "# Conjunto de objetos em uma cesta, a média é 8 e o desvio padrão é 2\n",
    "# Qual a probabilidade de tirar um objeto que peso é menor que 6 quilos?\n",
    "norm.cdf(6,8,2)"
   ]
  },
  {
   "cell_type": "code",
   "execution_count": 4,
   "id": "431724e7-7192-45b3-8005-c9e7e0155dfd",
   "metadata": {},
   "outputs": [
    {
     "data": {
      "text/plain": [
       "0.8413447460685429"
      ]
     },
     "execution_count": 4,
     "metadata": {},
     "output_type": "execute_result"
    }
   ],
   "source": [
    "# Qual a probabilidade de tirar um objeto que o peso é maior que 6 quilos?\n",
    "norm.sf(6,8,2)\n",
    "1 - norm.cdf(6,8,2)"
   ]
  },
  {
   "cell_type": "code",
   "execution_count": 6,
   "id": "5872c198-5109-492b-a354-88f2857ac53b",
   "metadata": {},
   "outputs": [
    {
     "data": {
      "text/plain": [
       "0.31731050786291415"
      ]
     },
     "execution_count": 6,
     "metadata": {},
     "output_type": "execute_result"
    }
   ],
   "source": [
    "# Qual a probabilidade de tirar um objeto que o peso é menor que 6 ou maior que 10 quilos?\n",
    "norm.cdf(6,8,2) + norm.sf(10, 8, 2)"
   ]
  },
  {
   "cell_type": "code",
   "execution_count": 8,
   "id": "e672fdbf-4604-43be-ad96-016c384bafc3",
   "metadata": {},
   "outputs": [
    {
     "data": {
      "text/plain": [
       "1.3413447460685428"
      ]
     },
     "execution_count": 8,
     "metadata": {},
     "output_type": "execute_result"
    }
   ],
   "source": [
    "# Qual a probabilidade de tirar um objeto que o peso é menor que 10 e maior que 8 quilos?\n",
    "norm.cdf(10,8,2) + norm.cdf(8,8,2)"
   ]
  },
  {
   "cell_type": "code",
   "execution_count": null,
   "id": "c25b8e8e-4e84-4ff7-9c0d-1f5c2910dc01",
   "metadata": {},
   "outputs": [],
   "source": []
  }
 ],
 "metadata": {
  "kernelspec": {
   "display_name": "Python 3 (ipykernel)",
   "language": "python",
   "name": "python3"
  },
  "language_info": {
   "codemirror_mode": {
    "name": "ipython",
    "version": 3
   },
   "file_extension": ".py",
   "mimetype": "text/x-python",
   "name": "python",
   "nbconvert_exporter": "python",
   "pygments_lexer": "ipython3",
   "version": "3.10.12"
  }
 },
 "nbformat": 4,
 "nbformat_minor": 5
}
